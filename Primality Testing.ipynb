{
 "cells": [
  {
   "cell_type": "markdown",
   "metadata": {},
   "source": [
    "# Trial Division"
   ]
  },
  {
   "cell_type": "code",
   "execution_count": 4,
   "metadata": {},
   "outputs": [
    {
     "name": "stdout",
     "output_type": "stream",
     "text": [
      "Enter a number: 999983\n",
      "999983 is a prime number\n"
     ]
    }
   ],
   "source": [
    "from math import *\n",
    "\n",
    "def Trial_Division(n):\n",
    "    if (n < 2):\n",
    "        return False\n",
    "    \n",
    "    for i in range(2, int(sqrt(n)) + 1):\n",
    "        if (n % i == 0):\n",
    "            return False\n",
    "    return True\n",
    "\n",
    "n = int(input(\"Enter a number: \"))\n",
    "\n",
    "if (Trial_Division(n)):\n",
    "    print(n, \"is a prime number\")\n",
    "else:\n",
    "    print(n, \"is a composite number\")"
   ]
  },
  {
   "cell_type": "code",
   "execution_count": null,
   "metadata": {},
   "outputs": [],
   "source": []
  },
  {
   "cell_type": "markdown",
   "metadata": {},
   "source": [
    "# Wilson's Theorem"
   ]
  },
  {
   "cell_type": "code",
   "execution_count": 5,
   "metadata": {},
   "outputs": [
    {
     "name": "stdout",
     "output_type": "stream",
     "text": [
      "Enter a number: 9999991\n",
      "9999991 is a prime number\n"
     ]
    }
   ],
   "source": [
    "def Wilson(n):\n",
    "    r = 1\n",
    "    for i in range(1, n):\n",
    "        r = (r*i) % n\n",
    "    \n",
    "    if (r + 1 == n):\n",
    "        return True\n",
    "    else:\n",
    "        return False\n",
    "\n",
    "n = int(input(\"Enter a number: \"))\n",
    "\n",
    "if (Wilson(n)):\n",
    "    print(n, \"is a prime number\")\n",
    "else:\n",
    "    print(n, \"is a composite number\")"
   ]
  },
  {
   "cell_type": "markdown",
   "metadata": {},
   "source": [
    "# Running Time"
   ]
  },
  {
   "cell_type": "code",
   "execution_count": 6,
   "metadata": {},
   "outputs": [
    {
     "name": "stdout",
     "output_type": "stream",
     "text": [
      "Time:  0.0815851688385010\n"
     ]
    }
   ],
   "source": [
    "import time\n",
    "\n",
    "start_time = time.time()\n",
    "\n",
    "from math import *\n",
    "\n",
    "def Trial_Division(n):\n",
    "    if (n < 2):\n",
    "        return False\n",
    "    \n",
    "    for i in range(2, int(sqrt(n)) + 1):\n",
    "        if (n % i == 0):\n",
    "            return False\n",
    "    return True\n",
    "\n",
    "Trial_Division(99999999977)\n",
    "    \n",
    "end_time = time.time()\n",
    "print(\"Time: \", format(end_time - start_time, \".16f\"))"
   ]
  },
  {
   "cell_type": "code",
   "execution_count": 8,
   "metadata": {},
   "outputs": [
    {
     "name": "stdout",
     "output_type": "stream",
     "text": [
      "Time:  1.6797008514404297\n"
     ]
    }
   ],
   "source": [
    "import time\n",
    "\n",
    "start_time = time.time()\n",
    "\n",
    "def Wilson(n):\n",
    "    r = 1\n",
    "    for i in range(1, n):\n",
    "        r = (r*i) % n\n",
    "    \n",
    "    if (r + 1 == n):\n",
    "        return True\n",
    "    else:\n",
    "        return False\n",
    "\n",
    "Wilson(9999991)\n",
    "\n",
    "end_time = time.time()\n",
    "print(\"Time: \", format(end_time - start_time, \".16f\"))"
   ]
  },
  {
   "cell_type": "markdown",
   "metadata": {},
   "source": [
    "# Largest Prime"
   ]
  },
  {
   "cell_type": "code",
   "execution_count": 9,
   "metadata": {},
   "outputs": [
    {
     "name": "stdout",
     "output_type": "stream",
     "text": [
      "7\n",
      "97\n",
      "997\n",
      "9973\n",
      "99991\n",
      "999983\n",
      "9999991\n",
      "99999989\n",
      "999999937\n",
      "9999999967\n",
      "99999999977\n",
      "999999999989\n",
      "9999999999971\n",
      "99999999999973\n"
     ]
    }
   ],
   "source": [
    "def prime(n):\n",
    "    n -= 3\n",
    "    while (Trial_Division(n) == False):\n",
    "        n -= 1\n",
    "    print(n)\n",
    "    \n",
    "for i in range(1, 15):\n",
    "    prime(10**i)"
   ]
  },
  {
   "cell_type": "markdown",
   "metadata": {},
   "source": [
    "# Number of Primes"
   ]
  },
  {
   "cell_type": "code",
   "execution_count": 13,
   "metadata": {},
   "outputs": [
    {
     "name": "stdout",
     "output_type": "stream",
     "text": [
      "1 digit(s):  4\n",
      "2 digit(s):  21\n",
      "3 digit(s):  143\n",
      "4 digit(s):  1061\n",
      "5 digit(s):  8363\n"
     ]
    }
   ],
   "source": [
    "def num_prime(n):\n",
    "    count = 0\n",
    "    for i in range(10**(n-1), 10**n):\n",
    "        if (Trial_Division(i)):\n",
    "            count += 1\n",
    "            \n",
    "    return count\n",
    "\n",
    "for i in range(1, 6):\n",
    "    print(i, 'digit(s): ', num_prime(i))"
   ]
  },
  {
   "cell_type": "code",
   "execution_count": 18,
   "metadata": {},
   "outputs": [
    {
     "name": "stdout",
     "output_type": "stream",
     "text": [
      "\n",
      "Time to sum of 1 to  10000000  and required time to calculate is : (50000005000000, 1.693514108657837)\n"
     ]
    }
   ],
   "source": [
    "import time\n",
    "def sum_of_n_numbers(n):\n",
    "    start_time = time.time()\n",
    "    s = 0\n",
    "    for i in range(1,n+1):\n",
    "        s = s + i\n",
    "    end_time = time.time()\n",
    "    return s,end_time-start_time\n",
    "\n",
    "n = 10000000\n",
    "print(\"\\nTime to sum of 1 to \",n,\" and required time to calculate is :\",sum_of_n_numbers(n))"
   ]
  },
  {
   "cell_type": "markdown",
   "metadata": {},
   "source": [
    "# Miller Rabin\n"
   ]
  },
  {
   "cell_type": "code",
   "execution_count": 2,
   "metadata": {},
   "outputs": [
    {
     "name": "stdout",
     "output_type": "stream",
     "text": [
      "Enter a number: 789\n",
      "Enter a number: 10\n"
     ]
    },
    {
     "data": {
      "text/plain": [
       "False"
      ]
     },
     "execution_count": 2,
     "metadata": {},
     "output_type": "execute_result"
    }
   ],
   "source": [
    "from random import *\n",
    "def miller_rabin(n,k):\n",
    "    if n == 2:\n",
    "        return True\n",
    "\n",
    "    if n % 2 == 0:\n",
    "        return False\n",
    "    \n",
    "#write n in form 2 power s and multiply m\n",
    "    s, m = 0, n - 1\n",
    "    while m % 2 == 0:\n",
    "        s += 1\n",
    "        m //= 2\n",
    "        \n",
    "# we run the algorithms in k trials\n",
    "    for i in range(k):\n",
    "        a = randint(2, n - 1)\n",
    "        x = pow(a, m, n)\n",
    "        if x == 1 or x == n - 1:\n",
    "            continue\n",
    "        for i in range(s):\n",
    "            x = pow(x, 2, n)\n",
    "            if x == n - 1:\n",
    "                break\n",
    "        else:\n",
    "            return False\n",
    "    return True\n",
    "n = int(input(\"Enter a number: \"))\n",
    "k = int(input(\"Enter a number: \"))\n",
    "miller_rabin(n,k)"
   ]
  },
  {
   "cell_type": "code",
   "execution_count": null,
   "metadata": {},
   "outputs": [],
   "source": []
  }
 ],
 "metadata": {
  "kernelspec": {
   "display_name": "Python 3",
   "language": "python",
   "name": "python3"
  },
  "language_info": {
   "codemirror_mode": {
    "name": "ipython",
    "version": 3
   },
   "file_extension": ".py",
   "mimetype": "text/x-python",
   "name": "python",
   "nbconvert_exporter": "python",
   "pygments_lexer": "ipython3",
   "version": "3.8.3"
  }
 },
 "nbformat": 4,
 "nbformat_minor": 4
}
